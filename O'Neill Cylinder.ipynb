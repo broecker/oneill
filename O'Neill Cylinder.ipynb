{
 "cells": [
  {
   "cell_type": "code",
   "execution_count": 118,
   "id": "671fbad3",
   "metadata": {},
   "outputs": [],
   "source": [
    "# Preamble.\n",
    "\n",
    "# Make sure to pip install all these packages and run under a virtual env: https://janakiev.com/blog/jupyter-virtual-envs/\n",
    "import math\n",
    "import pint\n",
    "\n",
    "unit = pint.UnitRegistry()\n",
    "\n",
    "# Constants we want to use.\n",
    "earth_acceleration = 9.81 * unit('meter / second**2')\n",
    "\n",
    "# Dry air at 20C; see https://en.wikipedia.org/wiki/Density_of_air.\n",
    "rho_air = 1.2041 * unit('kilogram / meter**3')\n",
    "\n",
    "# Density of Aluminium; see https://en.wikipedia.org/wiki/Aluminium\n",
    "rho_alu = 2.7 * unit('g / cm**3')\n"
   ]
  },
  {
   "cell_type": "code",
   "execution_count": 141,
   "id": "39b37365",
   "metadata": {},
   "outputs": [],
   "source": [
    "# Cylinder dimensions. These the primary attributes.\n",
    "\n",
    "# Length.\n",
    "cylinder_length = 16 * unit.kilometer\n",
    "\n",
    "# Radius.\n",
    "cylinder_radius = 3 * unit.kilometer\n",
    "\n",
    "# Rotation speed in rotations / hour.\n",
    "cylinder_rotation = 30.0 / unit.hour\n",
    "\n",
    "# This is the wall thickness.\n",
    "shell_thickness = 100 * unit.meter\n",
    "\n",
    "# If we wanted to move it, how strong are our engines? For reference, the total Space Shuttle Engines plus SRBs provided ~30 MN\n",
    "engine_thrust = 30000 * unit('meganewton')\n"
   ]
  },
  {
   "cell_type": "code",
   "execution_count": 142,
   "id": "3628a333",
   "metadata": {},
   "outputs": [
    {
     "name": "stdout",
     "output_type": "stream",
     "text": [
      "Cylinder circumference:   18.85 kilometer\n",
      "Cylinder inner area:      301.59 kilometer ** 2\n",
      "Cylinder outer area:      311.65 kilometer ** 2\n",
      "Cylinder volume:          452.39 kilometer ** 3\n",
      "Surface speed:            565.49 kilometer / hour / 157.08 meter / second\n",
      "Centripetal acceleration: 8.22467 meter / second ** 2 / 0.83840 dimensionless Gs\n",
      "Atmospheric weight:       600.45 megaton\n",
      "Shell volume:             30.66 kilometer ** 3\n",
      "Shell weight:             91257.32 megaton\n",
      "Dry weight:               91857.77 megaton\n",
      "Engine acceleration:      0.0003600059 meter / second ** 2 / 0.0000366978 dimensionless Gs\n"
     ]
    }
   ],
   "source": [
    "# Derived geometrical and physical stats.\n",
    "\n",
    "# Does not include the end caps.\n",
    "def cylinder_surface_area(r: unit, h: unit) -> unit:\n",
    "    return 2.0 * math.pi * r * h\n",
    "\n",
    "def solid_cylinder_volume(r: unit, h: unit) -> unit:\n",
    "    return r * r * math.pi * h\n",
    "\n",
    "def hollow_cylinder_volume(inner_r: unit, outer_r: unit, h: unit) -> unit:\n",
    "    return (outer_r*outer_r - inner_r*inner_r) * math.pi * h\n",
    "\n",
    "# The 'equatorial' circle length.\n",
    "cylinder_circumference = 2.0 * math.pi * cylinder_radius\n",
    "\n",
    "cylinder_inner_area = cylinder_surface_area(cylinder_radius, cylinder_length)\n",
    "cylinder_outer_area = cylinder_surface_area(cylinder_radius + cylinder_thickness, cylinder_length)\n",
    "cylinder_volume = solid_cylinder_volume(cylinder_radius, cylinder_length)\n",
    "\n",
    "print(f'Cylinder circumference:   {cylinder_circumference:.2f}')\n",
    "print(f'Cylinder inner area:      {cylinder_inner_area:.2f}')\n",
    "print(f'Cylinder outer area:      {cylinder_outer_area:.2f}')\n",
    "print(f'Cylinder volume:          {cylinder_volume:.2f}')\n",
    "\n",
    "\n",
    "surface_speed = cylinder_circumference * cylinder_rotation\n",
    "print(f'Surface speed:            {surface_speed:.2f} / {surface_speed.to('meter / second'):.2f}')\n",
    "\n",
    "centripetal_acceleration = (surface_speed**2 / cylinder_radius).to('meter / second**2')\n",
    "relative_gs = centripetal_acceleration  / earth_acceleration\n",
    "\n",
    "print(f'Centripetal acceleration: {centripetal_acceleration:.5f} / {relative_gs:.5f} Gs')\n",
    "\n",
    "atmospheric_weight = (cylinder_volume * rho_air).to('megaton')\n",
    "print(f'Atmospheric weight:       {atmospheric_weight:.2f}')\n",
    "\n",
    "shell_volume = hollow_cylinder_volume(cylinder_radius, cylinder_radius+shell_thickness, cylinder_length)\n",
    "print(f'Shell volume:             {shell_volume:.2f}')\n",
    "\n",
    "shell_weight = (shell_volume * rho_alu).to('megaton')\n",
    "print(f'Shell weight:             {shell_weight:.2f}')\n",
    "\n",
    "dry_weight = shell_weight + atmospheric_weight\n",
    "print(f'Dry weight:               {dry_weight:.2f}')\n",
    "\n",
    "engine_acceleration = (engine_thrust / dry_weight).to('meter / second**2')\n",
    "print(f'Engine acceleration:      {engine_acceleration:.10f} / {engine_acceleration / earth_acceleration:.10f} Gs')"
   ]
  },
  {
   "cell_type": "code",
   "execution_count": null,
   "id": "a5445d14-b03c-40f5-8c11-b703db8c4eac",
   "metadata": {},
   "outputs": [],
   "source": []
  }
 ],
 "metadata": {
  "kernelspec": {
   "display_name": "Python 3 (ipykernel)",
   "language": "python",
   "name": "python3"
  },
  "language_info": {
   "codemirror_mode": {
    "name": "ipython",
    "version": 3
   },
   "file_extension": ".py",
   "mimetype": "text/x-python",
   "name": "python",
   "nbconvert_exporter": "python",
   "pygments_lexer": "ipython3",
   "version": "3.12.3"
  }
 },
 "nbformat": 4,
 "nbformat_minor": 5
}
